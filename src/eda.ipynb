{
 "cells": [
  {
   "cell_type": "markdown",
   "id": "07d203d7-acc8-46db-8ff4-018c7b261865",
   "metadata": {},
   "source": [
    "### This file will do some basic Exploratory Data Analysis before getting into perspective\n",
    "#### Gives basic idea of dataset will be working with"
   ]
  },
  {
   "cell_type": "code",
   "execution_count": null,
   "id": "b1fc0818-c8d1-4f15-a451-c6a27c54f723",
   "metadata": {},
   "outputs": [],
   "source": []
  }
 ],
 "metadata": {
  "kernelspec": {
   "display_name": "Python 3 (ipykernel)",
   "language": "python",
   "name": "python3"
  },
  "language_info": {
   "codemirror_mode": {
    "name": "ipython",
    "version": 3
   },
   "file_extension": ".py",
   "mimetype": "text/x-python",
   "name": "python",
   "nbconvert_exporter": "python",
   "pygments_lexer": "ipython3",
   "version": "3.11.3"
  }
 },
 "nbformat": 4,
 "nbformat_minor": 5
}
